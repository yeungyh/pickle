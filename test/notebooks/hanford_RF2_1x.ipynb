{
 "cells": [
  {
   "cell_type": "code",
   "execution_count": null,
   "metadata": {},
   "outputs": [],
   "source": [
    "import paths\n",
    "import yaml\n",
    "import os\n",
    "import copy\n",
    "import numpy as np\n",
    "import numpy.random as npr\n",
    "import scipy.optimize as spo\n",
    "import scipy.linalg as spl\n",
    "from matplotlib import pyplot as plt, collections as mc, patches as mpatches, cm, ticker\n",
    "from sdfs.geom_mrst import GeomMRST\n",
    "from sdfs.bc_mrst import BCMRST\n",
    "from sdfs.darcy import DarcyExp\n",
    "from sdfs.tpfa import TPFA\n",
    "from sdfs.dasa import DASAExpLM, DASAExpLMWithFlux\n",
    "from time import perf_counter\n",
    "import ckli.mapest as mapest\n",
    "import ckli.ckliest_l2reg as ckliest\n",
    "import h5py\n",
    "import GPy"
   ]
  },
  {
   "cell_type": "code",
   "execution_count": null,
   "metadata": {},
   "outputs": [],
   "source": [
    "plt.rc('text', usetex=True)\n",
    "plt.rc('image', cmap='plasma')\n",
    "\n",
    "def plot_patch(patches, values, fig, ax, points, title, cmin=None, cmax=None, cb=False):\n",
    "    p = mc.PatchCollection(patches, cmap=cm.jet)\n",
    "    p.set_array(values)\n",
    "    p.set_clim([cmin, cmax])\n",
    "    ax.add_collection(p)\n",
    "    if points is not None:\n",
    "        ax.plot(*points, 'ko', markersize=0.5)\n",
    "    ax.set_aspect('equal')\n",
    "    ax.axis('off')\n",
    "    ax.autoscale(tight=True)\n",
    "    #ax.set_title(title)\n",
    "    if cb:\n",
    "        fig.colorbar(p, ax=ax)\n",
    "    return p"
   ]
  },
  {
   "cell_type": "code",
   "execution_count": null,
   "metadata": {},
   "outputs": [],
   "source": [
    "# Parameters\n",
    "seed = 0\n",
    "num_trials = 1\n",
    "res_fac = 1\n",
    "resolution = '1x'\n",
    "resolution_fine = '16x'\n",
    "NYobs = 100\n",
    "NYlearn = NYobs\n",
    "NYrefobs = 50\n",
    "NYxi = 1000\n",
    "Nuxi = 1000\n",
    "Nens = 5000\n",
    "beta_ckli = 1e1\n",
    "Ygamma_ckli = 1e-4\n",
    "ugamma_ckli = 1e-4\n",
    "gamma_map = 1e-6\n",
    "std_dev_ref = 1.0\n",
    "cor_len_ref = 0.1\n",
    "Neumann_sd = 0\n",
    "lsq_method = 'trf'\n",
    "data_path = '../data/'\n",
    "results_path = '../results/'\n",
    "figures_path = '../figures/'\n",
    "geom_filename = data_path + f'geom/geom_{resolution}.mat'\n",
    "geom_fine_filename = data_path + f'geom/geom_{resolution_fine}.mat'\n",
    "bc_filename = data_path + f'bc/bc_{resolution}.mat'\n",
    "conduct_filename = data_path + f'RF2/conduct_log_RF2_{NYrefobs}_{resolution}.mat'\n",
    "well_cells_filename = data_path + f'well_cells/well_cells_{resolution}.mat'\n",
    "yobs_filename = data_path + f'yobs/yobs_{NYobs}_{resolution}.npy'\n",
    "yobs_fine_filename = data_path + f'yobs/yobs_{NYobs}_{resolution_fine}.npy'\n",
    "ref = f\"Yref=RF2_{NYrefobs}_{resolution}\""
   ]
  },
  {
   "cell_type": "code",
   "execution_count": null,
   "metadata": {},
   "outputs": [],
   "source": [
    "Yfac = 7.0 # Rescaling factor for log-conductivity. Must be applied to Yref and the BCs\n",
    "\n",
    "geom = GeomMRST(geom_filename)\n",
    "bc = BCMRST(geom, bc_filename)\n",
    "bc.rescale('N', Yfac)\n",
    "prob = DarcyExp(TPFA(geom, bc), None)\n",
    "\n",
    "Nc = geom.cells.num\n",
    "Ninf = geom.faces.num_interior\n",
    "print(f'Ninf = {Ninf}, Nc = {Nc}')"
   ]
  },
  {
   "cell_type": "code",
   "execution_count": null,
   "metadata": {},
   "outputs": [],
   "source": [
    "patches = [mpatches.Polygon(v, closed=True) for v in geom.nodes.coords.T[geom.cells.nodes.T, :]]"
   ]
  },
  {
   "cell_type": "code",
   "execution_count": null,
   "metadata": {
    "tags": []
   },
   "outputs": [],
   "source": [
    "# Observations\n",
    "rs = npr.RandomState(seed)\n",
    "\n",
    "# Read stochastic model from GPML output\n",
    "with h5py.File(conduct_filename, 'r') as f:\n",
    "    Yref = f.get('mu')[:].ravel() - Yfac\n",
    "    xrefYobs = f.get('xYobs')[:]\n",
    "\n",
    "uref = prob.randomize_bc('N', Neumann_sd).solve(Yref)\n",
    "\n",
    "# u observations\n",
    "with h5py.File(well_cells_filename, 'r') as f:\n",
    "    iuobs = f.get('well_cells')[:].ravel() - 1\n",
    "uobs = uref[iuobs]\n",
    "Nuobs = iuobs.size"
   ]
  },
  {
   "cell_type": "code",
   "execution_count": null,
   "metadata": {},
   "outputs": [],
   "source": [
    "fig, ax = plt.subplots(figsize=(4, 4))\n",
    "p = plot_patch(patches, Yref + Yfac, fig, ax, xrefYobs, 'Yref', 0, 12)\n",
    "cbar = fig.colorbar(p, ax=ax)\n",
    "cbar.ax.tick_params(labelsize='30')\n",
    "cbar.locator = ticker.MaxNLocator(nbins=7)\n",
    "cbar.update_ticks()\n",
    "fig.tight_layout()\n",
    "fig.savefig(figures_path + f'ref/Yref_{ref}.pdf', dpi=300)"
   ]
  },
  {
   "cell_type": "code",
   "execution_count": null,
   "metadata": {},
   "outputs": [],
   "source": [
    "rl2e = lambda yest, yref : spl.norm(yest - yref, 2) / spl.norm(yref, 2)\n",
    "infe = lambda yest, yref : spl.norm(yest - yref, np.inf)"
   ]
  },
  {
   "cell_type": "code",
   "execution_count": null,
   "metadata": {},
   "outputs": [],
   "source": [
    "if os.path.exists(yobs_filename):\n",
    "    print(f\"iYobs set read from file {yobs_filename}\")\n",
    "    iYobs = np.load(yobs_filename)\n",
    "elif os.path.exists(yobs_fine_filename):\n",
    "    print(f\"iYobs set read from file {yobs_fine_filename} and randomly selected nearby cell\")\n",
    "    iYobs_fine = np.load(yobs_fine_filename)\n",
    "    geom_fine = GeomMRST(geom_fine_filename)\n",
    "    iYobs = np.array([geom.anyCellsWithin(geom_fine.nodes.coords.T[geom_fine.cells.nodes.T[iYobs_fine[t]]]) for t in range(num_trials)])\n",
    "    np.save(yobs_filename, iYobs)\n",
    "else:\n",
    "    print(f\"iYobs set randomly generated and saved to {yobs_filename}\")\n",
    "    iYobs = np.array([np.sort(rs.choice(Nc, NYobs, replace=False)) for _ in range(num_trials)])\n",
    "    np.save(yobs_filename, iYobs)\n",
    "print(f\"{iYobs.shape=}\")\n",
    "print(iYobs)"
   ]
  },
  {
   "cell_type": "code",
   "execution_count": null,
   "metadata": {},
   "outputs": [],
   "source": [
    "exp = f'NY={NYobs}_Nu={iuobs.size}_{NYlearn=}_{Nuxi=}_{NYxi=}_beta={beta_ckli}_gamma={ugamma_ckli}_Neumann_sd={Neumann_sd}_{lsq_method=}_h1reg_{ref}'\n",
    "print(exp)"
   ]
  },
  {
   "cell_type": "code",
   "execution_count": null,
   "metadata": {},
   "outputs": [],
   "source": [
    "timings = np.zeros((num_trials, 6))\n",
    "nfevs = np.zeros((num_trials, 3), dtype=int)\n",
    "rel_errors = np.zeros((num_trials, 4))\n",
    "abs_errors = np.zeros((num_trials, 4))\n",
    "\n",
    "Yobs = np.zeros((num_trials, NYobs))\n",
    "Ypred = np.zeros((num_trials, Nc))\n",
    "CYpred = np.zeros((num_trials, Nc, Nc))\n",
    "umean = np.zeros((num_trials, Nc))\n",
    "Cu = np.zeros((num_trials, Nc, Nc))\n",
    "upred = np.zeros((num_trials, Nc))\n",
    "Cupred = np.zeros((num_trials, Nc, Nc))\n",
    "\n",
    "PsiY = np.zeros((num_trials, Nc, NYxi))\n",
    "LambdaY = np.zeros((num_trials, NYxi))\n",
    "Psiu = np.zeros((num_trials, Nc, Nuxi))\n",
    "Lambdau = np.zeros((num_trials, Nuxi))\n",
    "\n",
    "Yxi = np.zeros((num_trials, NYxi))\n",
    "uxi = np.zeros((num_trials, Nuxi))\n",
    "Yest = np.zeros((num_trials, Nc))\n",
    "uest = np.zeros((num_trials, Nc))\n",
    "Yest_MAPH1 = np.zeros((num_trials, Nc))\n",
    "if Neumann_sd != 0:\n",
    "    Nq = np.count_nonzero(bc.kind == 'N')\n",
    "    q_MAPH1 = np.zeros((num_trials, Nq))"
   ]
  },
  {
   "cell_type": "code",
   "execution_count": null,
   "metadata": {},
   "outputs": [],
   "source": [
    "for t in range(num_trials):\n",
    "    Yobs[t] = Yref[iYobs[t]]\n",
    "\n",
    "    ts = perf_counter()\n",
    "    klearn = GPy.kern.sde_Matern52(input_dim=2, variance=std_dev_ref**2, lengthscale=cor_len_ref)\n",
    "    mYlearn = GPy.models.GPRegression(geom.cells.centroids[:, iYobs[t]].T, Yobs[t, :,None], klearn, noise_var=np.sqrt(np.finfo(float).eps))\n",
    "    mYlearn.optimize(messages=True, ipython_notebook=False)\n",
    "    print(f\"{klearn.lengthscale.values[0]=}\")\n",
    "    print(f\"{np.sqrt(klearn.variance.values[0])=}\")\n",
    "\n",
    "    mYref = GPy.models.GPRegression(geom.cells.centroids[:, iYobs[t]].T, Yobs[t, :, None], mYlearn.kern, noise_var=np.sqrt(np.finfo(float).eps))\n",
    "    Ypred[t], CYpred[t] = (lambda x, y : (x.ravel(), y))(*mYref.predict_noiseless(geom.cells.centroids.T, full_cov=True))\n",
    "    timings[t, 0] = perf_counter() - ts\n",
    "\n",
    "print(f\"GPR: {timings[:, 0]} s\")"
   ]
  },
  {
   "cell_type": "code",
   "execution_count": null,
   "metadata": {},
   "outputs": [],
   "source": [
    "for t in range(num_trials):\n",
    "    # Compute GP model for u\n",
    "    ts = perf_counter()\n",
    "    umean[t], Cu[t] = ckliest.smc_gp(Ypred[t], CYpred[t], Nens, copy.deepcopy(prob), rs, randomize_bc=True, randomize_scale=Neumann_sd)\n",
    "    upred[t], Cupred[t] = ckliest.gpr(umean[t], Cu[t], uobs, iuobs)\n",
    "    timings[t, 1] = perf_counter() - ts\n",
    "\n",
    "print(f\"Monte Carlo: {timings[:, 1]} s\")"
   ]
  },
  {
   "cell_type": "code",
   "execution_count": null,
   "metadata": {},
   "outputs": [],
   "source": [
    "# PICKLE models\n",
    "Ym = Ypred\n",
    "CYm = CYpred\n",
    "um = umean #or change to upred\n",
    "Cum = Cu #or change to Cupred\n",
    "\n",
    "rel_errors[:, 0] = np.array([rl2e(Ym[t], Yref) for t in range(num_trials)])\n",
    "abs_errors[:, 0] = np.array([infe(Ym[t], Yref) for t in range(num_trials)])\n",
    "\n",
    "print(f\"GPR\\tRelative error: {rel_errors[:, 0]}\")\n",
    "print(f\"GPR\\tInfinity error: {abs_errors[:, 0]}\")"
   ]
  },
  {
   "cell_type": "code",
   "execution_count": null,
   "metadata": {},
   "outputs": [],
   "source": [
    "for t in range(num_trials):\n",
    "    ts = perf_counter()\n",
    "    PsiY[t], LambdaY[t] = ckliest.KL_via_eigh(CYm[t], NYxi)\n",
    "    Psiu[t], Lambdau[t] = ckliest.KL_via_eigh(Cum[t], Nuxi)\n",
    "    timings[t, 2] = perf_counter() - ts\n",
    "\n",
    "print(f\"eigendecomposition: {timings[:, 2]} s\")"
   ]
  },
  {
   "cell_type": "code",
   "execution_count": null,
   "metadata": {
    "tags": [
     "outputPrepend"
    ]
   },
   "outputs": [],
   "source": [
    "# PICKLE estimate\n",
    "ssv = None if Neumann_sd == 0 else np.delete(np.arange(Nc), np.unique(geom.cells.to_hf[2*geom.faces.num_interior:][bc.kind == 'N']))\n",
    "\n",
    "for t in range(num_trials):\n",
    "    res = ckliest.LeastSqRes(NYxi, Ym[t], PsiY[t], Nuxi, um[t], Psiu[t], prob, ugamma_ckli, Ygamma_ckli, res_fac, iuobs, uobs, iYobs[t], Yobs[t], beta_ckli, ssv=ssv)\n",
    "    x0 = np.zeros(Nuxi + NYxi)\n",
    "        \n",
    "    ts = perf_counter()\n",
    "    sol = spo.least_squares(res.val, x0, jac=res.jac, method=lsq_method, verbose=2)\n",
    "    ckli_status = sol.status\n",
    "    timings[t, 3] = perf_counter() - ts\n",
    "    nfevs[t, 0] = sol.nfev\n",
    "    print(f'CKLI optimality: {sol.optimality : g}')\n",
    "\n",
    "    uxi[t] = sol.x[:Nuxi]\n",
    "    Yxi[t] = sol.x[Nuxi:]\n",
    "    uest[t] = um[t] + Psiu[t] @ uxi[t]\n",
    "    Yest[t] = Ym[t] + PsiY[t] @ Yxi[t]\n",
    "\n",
    "rel_errors[:, 1] = np.array([rl2e(Yest[t], Yref) for t in range(num_trials)])\n",
    "abs_errors[:, 1] = np.array([infe(Yest[t], Yref) for t in range(num_trials)])\n",
    "\n",
    "print(f\"PICKLE: {timings[:, 3]} s\")\n",
    "print(f\"PICKLE\\trelative L2 error: {rel_errors[:, 1]}\")\n",
    "print(f\"PICKLE\\tabsolute Infinity error: {abs_errors[:, 1]}\")"
   ]
  },
  {
   "cell_type": "code",
   "execution_count": null,
   "metadata": {
    "tags": [
     "outputPrepend"
    ]
   },
   "outputs": [],
   "source": [
    "# MAP H1 estimate\n",
    "Lreg = mapest.compute_Lreg(geom)\n",
    "for t in range(num_trials):\n",
    "    if Neumann_sd == 0:\n",
    "        loss = mapest.LossVec(Nc, Nc, iuobs, uobs, iYobs[t], Yobs[t], gamma_map, Lreg) # H1 regularization\n",
    "        dasa = DASAExpLM(loss.val, loss.grad_u, loss.grad_Y, prob.solve, prob.residual_sens_u, prob.residual_sens_Y)\n",
    "        ts = perf_counter()\n",
    "        sol = spo.least_squares(dasa.obj, np.zeros(Nc), jac=dasa.grad, method=lsq_method, verbose=2)\n",
    "        Yest_MAPH1[t] = sol.x\n",
    "    else:\n",
    "        loss = mapest.LossVecWithFlux(Nc, Nc, Nq, iuobs, uobs, iYobs[t], Yobs[t], gamma_map, Lreg) # H1 regularization\n",
    "        dasa = DASAExpLMWithFlux(Nc, loss.val, loss.grad_u, loss.grad_p, prob.solve, prob.residual_sens_u, prob.residual_sens_p)\n",
    "        ts = perf_counter()\n",
    "        sol = spo.least_squares(dasa.obj, np.zeros(Nc + Nq), jac=dasa.grad, method=lsq_method, verbose=2)\n",
    "        Yest_MAPH1[t] = sol.x[:Nc]\n",
    "        q_MAPH1[t] = sol.x[Nc:]\n",
    "    MAP_status = sol.status\n",
    "    timings[t, 4] = perf_counter() - ts\n",
    "    nfevs[t, 1] = sol.nfev\n",
    "    print(f'MAP status: {MAP_status}, message: {sol.message}')\n",
    "\n",
    "rel_errors[:, 2] = np.array([rl2e(Yest_MAPH1[t], Yref) for t in range(num_trials)])\n",
    "abs_errors[:, 2] = np.array([infe(Yest_MAPH1[t], Yref) for t in range(num_trials)])\n",
    "\n",
    "print(f\"MAP: {timings[:, 4]} s\")\n",
    "print(f\"MAP\\trelative L2 error: {rel_errors[:, 2]}\")\n",
    "print(f\"MAP\\tabsolute infinity error: {abs_errors[:, 2]}\")"
   ]
  },
  {
   "cell_type": "code",
   "execution_count": null,
   "metadata": {},
   "outputs": [],
   "source": [
    "np.savetxt(results_path + f'iYobs/iYobs_{exp}.txt', iYobs.astype(int), fmt='%i')\n",
    "np.savetxt(results_path + f'timings/timings_{exp}.txt', timings)\n",
    "np.savetxt(results_path + f'nfevs/nfevs_{exp}.txt', nfevs.astype(int), fmt='%i')\n",
    "np.savetxt(results_path + f'rel_errors/rel_errors_{exp}.txt', rel_errors)\n",
    "np.savetxt(results_path + f'abs_errors/abs_errors_{exp}.txt', abs_errors)\n",
    "np.savetxt(results_path + f'YGPR/YGPR_{exp}.txt', Yref)\n",
    "np.savetxt(results_path + f'YPICKLE/YPICKLE_{exp}.txt', Yest)\n",
    "np.savetxt(results_path + f'YMAP/YMAP_{exp}.txt', Yest_MAPH1)"
   ]
  },
  {
   "cell_type": "code",
   "execution_count": null,
   "metadata": {},
   "outputs": [],
   "source": []
  }
 ],
 "metadata": {
  "interpreter": {
   "hash": "31f2aee4e71d21fbe5cf8b01ff0e069b9275f58929596ceb00d14d90e3e16cd6"
  },
  "kernelspec": {
   "display_name": "Python 3.8.2 64-bit",
   "name": "python3"
  },
  "language_info": {
   "codemirror_mode": {
    "name": "ipython",
    "version": 3
   },
   "file_extension": ".py",
   "mimetype": "text/x-python",
   "name": "python",
   "nbconvert_exporter": "python",
   "pygments_lexer": "ipython3",
   "version": "3.8.2"
  },
  "metadata": {
   "interpreter": {
    "hash": "082e9a3bcad0a290d0001e938aa60b99250c6c2ef33a923c00b70f9826caf4b7"
   }
  }
 },
 "nbformat": 4,
 "nbformat_minor": 4
}